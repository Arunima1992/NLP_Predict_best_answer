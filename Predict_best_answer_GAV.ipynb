{
  "nbformat": 4,
  "nbformat_minor": 0,
  "metadata": {
    "colab": {
      "name": "Predict_best_answer_GAV.ipynb",
      "provenance": [],
      "toc_visible": true,
      "mount_file_id": "1y4KbfodpkVNKfLL8_E7xkevocJxh9bU0",
      "authorship_tag": "ABX9TyNl+HMYzj3Ntxp3VgX5rzp1",
      "include_colab_link": true
    },
    "kernelspec": {
      "name": "python3",
      "display_name": "Python 3"
    },
    "accelerator": "TPU"
  },
  "cells": [
    {
      "cell_type": "markdown",
      "metadata": {
        "id": "view-in-github",
        "colab_type": "text"
      },
      "source": [
        "<a href=\"https://colab.research.google.com/github/pgauravv/NLP_Predict_best_answer/blob/master/Predict_best_answer_GAV.ipynb\" target=\"_parent\"><img src=\"https://colab.research.google.com/assets/colab-badge.svg\" alt=\"Open In Colab\"/></a>"
      ]
    },
    {
      "cell_type": "code",
      "metadata": {
        "id": "5njHy5QPB0Wz",
        "colab_type": "code",
        "colab": {}
      },
      "source": [
        "# my thanks go to Baptiste + DP\n",
        "# A-P\n",
        "import os\n",
        "import numpy as np\n",
        "from scipy.sparse import csc_matrix, save_npz, load_npz\n",
        "import re\n",
        "import pickle\n",
        "import pandas as pd\n",
        "from datetime import datetime\n",
        "from gensim.corpora import Dictionary\n",
        "from nltk.tokenize import TweetTokenizer\n",
        "from sklearn.preprocessing import OneHotEncoder, LabelEncoder\n",
        "from nltk.stem import PorterStemmer\n",
        "#import matplotlib.pyplot as plt"
      ],
      "execution_count": 0,
      "outputs": []
    },
    {
      "cell_type": "code",
      "metadata": {
        "id": "rAvqMdDvHnTI",
        "colab_type": "code",
        "outputId": "9087ee9e-537d-4c71-af4f-986d9d4040bf",
        "colab": {
          "base_uri": "https://localhost:8080/",
          "height": 34
        }
      },
      "source": [
        "from google.colab import drive\n",
        "drive.mount('/content/drive')\n",
        "root_path = '/content/drive/My Drive/NLP_Final_Project'"
      ],
      "execution_count": 0,
      "outputs": [
        {
          "output_type": "stream",
          "text": [
            "Drive already mounted at /content/drive; to attempt to forcibly remount, call drive.mount(\"/content/drive\", force_remount=True).\n"
          ],
          "name": "stdout"
        }
      ]
    },
    {
      "cell_type": "code",
      "metadata": {
        "id": "dIiBBWITCwQn",
        "colab_type": "code",
        "colab": {}
      },
      "source": [
        "\n",
        "# 18 fields expected.\n",
        "field_names = ['id', 'type', 'is_best_answer', 'topic_id', 'parent_id', 'votes',\n",
        "               'title', 'content', 'member', 'category', 'state', 'is_solved', 'num_answers',\n",
        "               'country', 'date', 'last_answer_date', 'author_crc', 'visits']\n"
      ],
      "execution_count": 0,
      "outputs": []
    },
    {
      "cell_type": "code",
      "metadata": {
        "id": "MHKWoESEC6Nz",
        "colab_type": "code",
        "colab": {}
      },
      "source": [
        "\n",
        "\n",
        "txt_path = \"/content/drive/My Drive/NLP_Final_Project/QA/export-forums_en.csv\"\n",
        "entity_path = \"/content/drive/My Drive/NLP_Final_Project/QA/export-forums_en.pickle\"\n",
        "csv_path = \"/content/drive/My Drive/NLP_Final_Project/QA/export-forums_en.format.csv\"\n",
        "data_path = \"/content/drive/My Drive/NLP_Final_Project/QA/\"\n",
        "\n"
      ],
      "execution_count": 0,
      "outputs": []
    },
    {
      "cell_type": "code",
      "metadata": {
        "id": "02DYLFeGEMvo",
        "colab_type": "code",
        "colab": {}
      },
      "source": [
        "\n",
        "def format_entities():\n",
        "    '''\n",
        "    Read the raw data, format the list of entities, serialize them.\n",
        "    '''\n",
        "\n",
        "    def build_entities(txt_path, max_entities=None):\n",
        "        '''\n",
        "        Return a list of structured entities from raw txt file.\n",
        "        '''\n",
        "        # Read text file.\n",
        "        with open(txt_path, 'r', encoding='utf8') as f:\n",
        "            # Entities and current entity.\n",
        "            entities, entity = [], {}\n",
        "            # Entity values might be split over lines\n",
        "            field_counter = 0\n",
        "            # Process lines\n",
        "            for line in f:\n",
        "                # Prepare line\n",
        "                line = line.replace(\"\\\\N\", '\"unkwown\"')\n",
        "                # Char start for extracted value.\n",
        "                char_start = 1\n",
        "                # Find values separators\n",
        "                field_index = [m.start() for m in re.finditer('\",\"', line)]\n",
        "                # Browse value separators.\n",
        "                for index in field_index:\n",
        "                    # Extract in between value.\n",
        "                    value = line[char_start:index]\n",
        "                    # Update start index.\n",
        "                    char_start = index + 3\n",
        "                    # Update field counter.\n",
        "                    field_counter += 1\n",
        "                    # Update entity value.\n",
        "                    try:\n",
        "                        entity[field_names[field_counter-1]] += value\n",
        "                    except KeyError:\n",
        "                        entity[field_names[field_counter-1]] = value\n",
        "                    except IndexError:\n",
        "                        entity = {}\n",
        "                        field_counter = 0\n",
        "                # Content string is split.\n",
        "                if field_counter == 7 and len(field_index) > 0:\n",
        "                    entity[field_names[7]] = line[field_index[-1]:]\n",
        "                    continue\n",
        "                # Next content string.\n",
        "                if field_counter == 7 and len(field_index) == 0:\n",
        "                    entity[field_names[7]] += line\n",
        "                    continue\n",
        "                # Next entity.\n",
        "                if len(entity) == 17:\n",
        "                    field_counter = 0\n",
        "                    entities.append(entity)\n",
        "                    entity = {}\n",
        "                    if max_entities is not None:\n",
        "                        if len(entities) > max_entities:\n",
        "                            return entities\n",
        "        return entities\n",
        "\n",
        "    # Write entities on disk.\n",
        "    with open(entity_path, 'wb') as f:\n",
        "        pickle.dump(build_entities(txt_path=txt_path, max_entities=None), f)\n",
        "        print(f)\n"
      ],
      "execution_count": 0,
      "outputs": []
    },
    {
      "cell_type": "code",
      "metadata": {
        "id": "Lp_2EPP-EYZ2",
        "colab_type": "code",
        "colab": {}
      },
      "source": [
        "\n",
        "\n",
        "def entities_to_csv():\n",
        "    '''\n",
        "    Format entities to csv.\n",
        "    '''\n",
        "    with open(entity_path, 'rb') as obj:\n",
        "        entities = pickle.load(obj)\n",
        "    x = pd.DataFrame(entities)\n",
        "    x.to_csv(csv_path)\n",
        "\n"
      ],
      "execution_count": 0,
      "outputs": []
    },
    {
      "cell_type": "code",
      "metadata": {
        "id": "C0TlihMJ_Pvx",
        "colab_type": "code",
        "colab": {}
      },
      "source": [
        "\n",
        "def build_index():\n",
        "    '''\n",
        "    Build index and write.\n",
        "    '''\n",
        "\n",
        "    # Read entities.\n",
        "    with open(entity_path, 'rb') as obj:\n",
        "        entities = pickle.load(obj)\n",
        "\n",
        "    # Build indexes\n",
        "    user_index, question_index, answer_index, comment_index = {}, {}, {}, {}\n",
        "    for e in entities:\n",
        "        # Author\n",
        "        if e['author_crc'] not in user_index:\n",
        "            user_index[e['author_crc']] = len(user_index)\n",
        "        # Questions\n",
        "        if e['type'] == 'Q':\n",
        "            if e['id'] not in question_index:\n",
        "                question_index[e['id']] = len(question_index)\n",
        "        # Answers\n",
        "        if e['type'] == 'A':\n",
        "            if e['id'] not in answer_index:\n",
        "                answer_index[e['id']] = len(answer_index)\n",
        "        # Answers\n",
        "        if e['type'] == 'C':\n",
        "            if e['id'] not in comment_index:\n",
        "                comment_index[e['id']] = len(comment_index)\n",
        "\n",
        "    # Write index.\n",
        "    with open(os.path.join(data_path, 'user.index'), 'wb') as f:\n",
        "        pickle.dump(user_index, f)\n",
        "    with open(os.path.join(data_path, 'question.index'), 'wb') as f:\n",
        "        pickle.dump(question_index, f)\n",
        "    with open(os.path.join(data_path, 'answer.index'), 'wb') as f:\n",
        "        pickle.dump(answer_index, f)\n",
        "    with open(os.path.join(data_path, 'comment.index'), 'wb') as f:\n",
        "        pickle.dump(comment_index, f)\n",
        "\n",
        "    # Logs.\n",
        "    print(\"Entities: \", len(entities))\n",
        "    print(\"Users: \", len(user_index))\n",
        "    print(\"Questions: \", len(question_index))\n",
        "    print(\"Answers: \", len(answer_index))\n",
        "    print(\"Comments: \", len(comment_index))\n",
        "\n"
      ],
      "execution_count": 0,
      "outputs": []
    },
    {
      "cell_type": "code",
      "metadata": {
        "id": "nVuGwFVj_T0G",
        "colab_type": "code",
        "colab": {}
      },
      "source": [
        "\n",
        "def read_indexes():\n",
        "    '''\n",
        "    Return user, question, answer and comment index.\n",
        "    '''\n",
        "    with open(os.path.join(data_path, 'user.index'), 'rb') as obj:\n",
        "        user_index = pickle.load(obj)\n",
        "    with open(os.path.join(data_path, 'question.index'), 'rb') as obj:\n",
        "        question_index = pickle.load(obj)\n",
        "    with open(os.path.join(data_path, 'answer.index'), 'rb') as obj:\n",
        "        answer_index = pickle.load(obj)\n",
        "    with open(os.path.join(data_path, 'comment.index'), 'rb') as obj:\n",
        "        comment_index = pickle.load(obj)\n",
        "    return user_index, question_index, answer_index, comment_index\n",
        "\n"
      ],
      "execution_count": 0,
      "outputs": []
    },
    {
      "cell_type": "code",
      "metadata": {
        "id": "NyPyrvQH_XJ4",
        "colab_type": "code",
        "colab": {}
      },
      "source": [
        "\n",
        "def build_relations():\n",
        "    '''\n",
        "    Build UQ, UA, QA, UC, CA relations.\n",
        "    '''\n",
        "\n",
        "    # Read entities.\n",
        "    with open(entity_path, 'rb') as obj:\n",
        "        entities = pickle.load(obj)\n",
        "\n",
        "    # Read indexes\n",
        "    user_index, question_index, answer_index, comment_index = read_indexes()\n",
        "\n",
        "    # Relations\n",
        "    uq = []\n",
        "    ua = []\n",
        "    qa = []\n",
        "    uc = []\n",
        "    ca = []\n",
        "\n",
        "    # Browse elements.\n",
        "    for e in entities:\n",
        "\n",
        "        # UQ\n",
        "        if e['type'] == 'Q':\n",
        "            u = user_index[e['author_crc']]\n",
        "            q = question_index[e['id']]\n",
        "            t = datetime.utcfromtimestamp(int(e['date'])).strftime('%Y-%m-%d %H:%M:%S')\n",
        "            uq.append((u,q,t))\n",
        "\n",
        "        # UA, QA\n",
        "        if e['type'] == 'A':\n",
        "            u = user_index[e['author_crc']]\n",
        "            a = answer_index[e['id']]\n",
        "            q = question_index[e['parent_id']]\n",
        "            t = datetime.utcfromtimestamp(int(e['date'])).strftime('%Y-%m-%d %H:%M:%S')\n",
        "            ua.append((u,a,t))\n",
        "            qa.append((q,a,t))\n",
        "\n",
        "        # UC, CA\n",
        "        if e['type'] == 'C':\n",
        "            try:\n",
        "                u = user_index[e['author_crc']]\n",
        "                c = comment_index[e['id']]\n",
        "                a = answer_index[e['parent_id']]\n",
        "                t = datetime.utcfromtimestamp(int(e['date'])).strftime('%Y-%m-%d %H:%M:%S')\n",
        "                uc.append((u,c,t))\n",
        "                ca.append((c,a,t))\n",
        "            except KeyError:\n",
        "                continue\n",
        "\n",
        "    # Write relations.\n",
        "    with open(os.path.join(data_path, 'uq.rel'), 'wb') as f:\n",
        "        pickle.dump(uq, f)\n",
        "    # Write relations.\n",
        "    with open(os.path.join(data_path, 'ua.rel'), 'wb') as f:\n",
        "        pickle.dump(ua, f)\n",
        "    # Write relations.\n",
        "    with open(os.path.join(data_path, 'qa.rel'), 'wb') as f:\n",
        "        pickle.dump(qa, f)\n",
        "    # Write relations.\n",
        "    with open(os.path.join(data_path, 'uc.rel'), 'wb') as f:\n",
        "        pickle.dump(uc, f)\n",
        "    # Write relations.\n",
        "    with open(os.path.join(data_path, 'ca.rel'), 'wb') as f:\n",
        "        pickle.dump(ca, f)\n",
        "\n",
        "    # Logs.\n",
        "    print(\"uq: \", len(uq))\n",
        "    print(\"ua: \", len(ua))\n",
        "    print(\"qa: \", len(qa))\n",
        "    print(\"uc: \", len(uc))\n",
        "    print(\"ca: \", len(ca))\n",
        "\n"
      ],
      "execution_count": 0,
      "outputs": []
    },
    {
      "cell_type": "code",
      "metadata": {
        "id": "Pz58EOaT_alq",
        "colab_type": "code",
        "colab": {}
      },
      "source": [
        "\n",
        "def build_vocabulary_and_corpus():\n",
        "    '''\n",
        "    Build the vocabularies and stem sequences for each type of entities.\n",
        "    '''\n",
        "\n",
        "    # Vocabulary (same for question and answers)\n",
        "    v = Dictionary()\n",
        "\n",
        "    # Stemmer.\n",
        "    stemmer = PorterStemmer()\n",
        "\n",
        "    # Tokenizer.\n",
        "    tokenizer = TweetTokenizer()\n",
        "\n",
        "    # Read indexes\n",
        "    user_index, question_index, answer_index, comment_index = read_indexes()\n",
        "\n",
        "    # Question, answer\n",
        "    q = {}\n",
        "    a = {}\n",
        "\n",
        "    # Read entities.\n",
        "    with open(entity_path, 'rb') as obj:\n",
        "        entities = pickle.load(obj)\n",
        "\n",
        "    # Browse question and answers to first build vocabulary.\n",
        "    for e in entities:\n",
        "        # Question or answer.\n",
        "        if e['type'] == 'Q' or e['type'] == 'A':\n",
        "            # String content.\n",
        "            title = str(e['title']).encode('utf-8').lower()\n",
        "            content = str(e['content']).encode('utf-8').lower()\n",
        "            # Tokenize\n",
        "            d = tokenizer.tokenize(title + content)\n",
        "            # Stem word\n",
        "            d = [stemmer.stem(s) for s in d]\n",
        "            # Process vocabulary.\n",
        "            v.add_documents([d])\n",
        "            # Question\n",
        "            if e['type'] == 'Q':\n",
        "                q[question_index[e['id']]] = d\n",
        "            # Answer\n",
        "            if e['type'] == 'A':\n",
        "                a[answer_index[e['id']]] = d\n",
        "\n",
        "    # Write question corpus.\n",
        "    with open(os.path.join(data_path, 'q.corpus'), 'wb') as f:\n",
        "        pickle.dump(q, f)\n",
        "\n",
        "    # Write answer corpus.\n",
        "    with open(os.path.join(data_path, 'a.corpus'), 'wb') as f:\n",
        "        pickle.dump(a, f)\n",
        "\n",
        "    # Write to analyse.\n",
        "    v.filter_extremes(no_below=1000, keep_n=10000)\n",
        "    v.compactify()\n",
        "    v.save(os.path.join(data_path, \"raw_vocabulary.gensim\"))\n"
      ],
      "execution_count": 0,
      "outputs": []
    },
    {
      "cell_type": "code",
      "metadata": {
        "id": "U_xnLif3_dS-",
        "colab_type": "code",
        "colab": {}
      },
      "source": [
        "\n",
        "def build_embeddings():\n",
        "    print(\"Todo: your code goes here\")\n",
        "    def embed_spacy():\n",
        "      # Create an nlp object\n",
        "      doc = nlp(\"He went to play basketball\")\n",
        "      \n",
        "      # Iterate over the tokens\n",
        "      for token in doc:\n",
        "        # Print the token and its part-of-speech tag\n",
        "        print(token.text, \"-->\", token.pos_)\n",
        "\n",
        "      # dependency parsing\n",
        "        for token in doc:\n",
        "              print(token.text, \"-->\", token.dep_)\n",
        "              \n",
        "      # Import spaCy Matcher\n",
        "        from spacy.matcher import Matcher\n",
        "      \n",
        "      # Initialize the matcher with the spaCy vocabulary\n",
        "      matcher = Matcher(nlp.vocab)\n",
        "      doc = nlp(associate_corp)\n",
        "\n",
        "      # Define rule\n",
        "      pattern = [{'TEXT': 'lemon'}, {'TEXT': 'water'}]\n",
        "\n",
        "      # Add rule\n",
        "      matcher.add('rule_1', None, pattern)\n"
      ],
      "execution_count": 0,
      "outputs": []
    },
    {
      "cell_type": "code",
      "metadata": {
        "id": "NVKuvLQU_elL",
        "colab_type": "code",
        "colab": {}
      },
      "source": [
        "\n",
        "def build_models():\n",
        "    print(\"Todo: your code goes here\")    \n"
      ],
      "execution_count": 0,
      "outputs": []
    },
    {
      "cell_type": "code",
      "metadata": {
        "id": "mmZRdCf6_fUN",
        "colab_type": "code",
        "outputId": "432d14f5-bc47-430a-cbab-657906aad539",
        "colab": {
          "base_uri": "https://localhost:8080/",
          "height": 255
        }
      },
      "source": [
        "\n",
        "if __name__ == '__main__':\n",
        "    \n",
        "    format_entities()\n",
        "    build_index()\n",
        "    build_relations()\n",
        "    build_vocabulary_and_corpus()\n",
        "\n",
        "    # build_embeddings()\n",
        "    # build_models()\n",
        "\n"
      ],
      "execution_count": 0,
      "outputs": [
        {
          "output_type": "stream",
          "text": [
            "<_io.BufferedWriter name='/content/drive/My Drive/NLP_Final_Project/QA/export-forums_en.pickle'>\n",
            "Entities:  715516\n",
            "Users:  230923\n",
            "Questions:  264962\n",
            "Answers:  328280\n",
            "Comments:  122274\n",
            "uq:  264962\n",
            "ua:  328280\n",
            "qa:  328280\n",
            "uc:  106063\n",
            "ca:  106063\n"
          ],
          "name": "stdout"
        },
        {
          "output_type": "stream",
          "text": [
            "/usr/local/lib/python3.6/dist-packages/smart_open/smart_open_lib.py:253: UserWarning: This function is deprecated, use smart_open.open instead. See the migration notes for details: https://github.com/RaRe-Technologies/smart_open/blob/master/README.rst#migrating-to-the-new-open-function\n",
            "  'See the migration notes for details: %s' % _MIGRATION_NOTES_URL\n"
          ],
          "name": "stderr"
        }
      ]
    },
    {
      "cell_type": "code",
      "metadata": {
        "id": "DapNGEJFJZuN",
        "colab_type": "code",
        "colab": {}
      },
      "source": [
        "\n"
      ],
      "execution_count": 0,
      "outputs": []
    },
    {
      "cell_type": "code",
      "metadata": {
        "id": "IaxJCtbAKJ0w",
        "colab_type": "code",
        "outputId": "018aa1bc-c37f-4a2b-9603-0b03d50897db",
        "colab": {
          "base_uri": "https://localhost:8080/",
          "height": 34
        }
      },
      "source": [
        "drive.flush_and_unmount()\n",
        "print('All changes made in this colab session should now be visible in Drive.')"
      ],
      "execution_count": 0,
      "outputs": [
        {
          "output_type": "stream",
          "text": [
            "All changes made in this colab session should now be visible in Drive.\n"
          ],
          "name": "stdout"
        }
      ]
    }
  ]
}